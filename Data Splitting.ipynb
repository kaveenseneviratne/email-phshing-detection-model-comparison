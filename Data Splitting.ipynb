{
 "cells": [
  {
   "cell_type": "code",
   "execution_count": 1,
   "metadata": {
    "id": "6Lpyc5EQnd1o"
   },
   "outputs": [],
   "source": [
    "import pandas as pd\n",
    "from sklearn.model_selection import train_test_split\n",
    "import matplotlib.pyplot as plt\n"
   ]
  },
  {
   "cell_type": "code",
   "execution_count": 4,
   "metadata": {
    "id": "K4JG-WTbqkvb"
   },
   "outputs": [],
   "source": [
    "# Load data (source: https://huggingface.co/datasets/zefang-liu/phishing-email-dataset)\n",
    "df = pd.read_csv(\"Data/Phishing_Email (Raw Data).csv\")"
   ]
  },
  {
   "cell_type": "code",
   "execution_count": 5,
   "metadata": {
    "colab": {
     "base_uri": "https://localhost:8080/"
    },
    "id": "hGUVHAJYsurl",
    "outputId": "4adbafc4-2d1a-463b-c7e3-1132ec868a1b"
   },
   "outputs": [
    {
     "data": {
      "text/plain": [
       "(18650, 3)"
      ]
     },
     "execution_count": 5,
     "metadata": {},
     "output_type": "execute_result"
    }
   ],
   "source": [
    "df.shape"
   ]
  },
  {
   "cell_type": "code",
   "execution_count": 6,
   "metadata": {
    "colab": {
     "base_uri": "https://localhost:8080/"
    },
    "id": "_aFNABUYqo2I",
    "outputId": "3f4554f5-955d-4451-95dc-c206688ed0d5"
   },
   "outputs": [
    {
     "data": {
      "text/plain": [
       "Index(['Unnamed: 0', 'Email Text', 'Email Type'], dtype='object')"
      ]
     },
     "execution_count": 6,
     "metadata": {},
     "output_type": "execute_result"
    }
   ],
   "source": [
    "df.columns"
   ]
  },
  {
   "cell_type": "code",
   "execution_count": 7,
   "metadata": {
    "colab": {
     "base_uri": "https://localhost:8080/"
    },
    "id": "EA1alN-oq4ci",
    "outputId": "c29ef714-7450-4c34-a50c-f46c9a63352a"
   },
   "outputs": [
    {
     "name": "stdout",
     "output_type": "stream",
     "text": [
      "\n",
      "📋 Columns: ['Unnamed: 0', 'Email Text', 'Email Type']\n",
      "\n",
      "🔍 Missing values:\n",
      " Unnamed: 0     0\n",
      "Email Text    16\n",
      "Email Type     0\n",
      "dtype: int64\n",
      "\n",
      "⚖️ Class distribution:\n",
      "Email Type\n",
      "Safe Email        60.707775\n",
      "Phishing Email    39.292225\n",
      "Name: proportion, dtype: float64\n",
      "\n",
      "🔍 Duplicated rows: 0\n",
      "\n",
      "🔎 Unique Email No.: 18650 / 18650\n"
     ]
    }
   ],
   "source": [
    "\n",
    "# Check column names\n",
    "print(\"\\n📋 Columns:\", df.columns.tolist())\n",
    "\n",
    "# Check for missing values\n",
    "print(\"\\n🔍 Missing values:\\n\", df.isnull().sum())\n",
    "\n",
    "# Check class distribution\n",
    "print(\"\\n⚖️ Class distribution:\")\n",
    "print(df['Email Type'].value_counts(normalize=True) * 100)\n",
    "\n",
    "# Check for duplicates\n",
    "print(\"\\n🔍 Duplicated rows:\", df.duplicated().sum())\n",
    "\n",
    "# Check unique ID consistency\n",
    "print(\"\\n🔎 Unique Email No.:\", df['Unnamed: 0'].nunique(), \"/\", len(df))"
   ]
  },
  {
   "cell_type": "code",
   "execution_count": 8,
   "metadata": {
    "colab": {
     "base_uri": "https://localhost:8080/",
     "height": 410
    },
    "id": "sAlLBRmDrTrD",
    "outputId": "fc6cfe20-7dfc-4fc2-a709-1100db59808c"
   },
   "outputs": [
    {
     "data": {
      "image/png": "[encoded data removed]",
      "text/plain": [
       "<Figure size 400x400 with 1 Axes>"
      ]
     },
     "metadata": {},
     "output_type": "display_data"
    }
   ],
   "source": [
    "# Optional: visualize class distribution\n",
    "plt.figure(figsize=(4,4))\n",
    "df['Email Type'].value_counts().plot(kind='bar', title='Class Distribution (Label)')\n",
    "plt.xticks(ticks=[0, 1], labels=['Not phishing (0)', 'Phishing (1)'], rotation=0)\n",
    "plt.ylabel(\"Count\")\n",
    "plt.show()"
   ]
  },
  {
   "cell_type": "code",
   "execution_count": 9,
   "metadata": {
    "id": "JqMeDFTKsWks"
   },
   "outputs": [],
   "source": [
    "# Remove rows where Email Text is missing\n",
    "df_clean = df.dropna(subset=['Email Text'])\n",
    "# Remove rows where Email Text is empty or only whitespace (incl. \\n, \\t)\n",
    "df_clean = df_clean[df_clean['Email Text'].str.strip().astype(bool)]"
   ]
  },
  {
   "cell_type": "code",
   "execution_count": 10,
   "metadata": {
    "colab": {
     "base_uri": "https://localhost:8080/",
     "height": 178
    },
    "id": "H_bqXKOAsZxk",
    "outputId": "9a9543ba-a0a9-4d17-aed2-9c725f0d7a0c"
   },
   "outputs": [
    {
     "data": {
      "text/plain": [
       "Unnamed: 0    0\n",
       "Email Text    0\n",
       "Email Type    0\n",
       "dtype: int64"
      ]
     },
     "execution_count": 10,
     "metadata": {},
     "output_type": "execute_result"
    }
   ],
   "source": [
    "df_clean.isnull().sum()"
   ]
  },
  {
   "cell_type": "code",
   "execution_count": 11,
   "metadata": {
    "id": "tOeCbdtEnkHs"
   },
   "outputs": [],
   "source": [
    "\n",
    "#  Define features (X) and target (y)\n",
    "X = df_clean[['Email Text']]  #  text as features\n",
    "y = df_clean['Email Type']   # target for stratification\n"
   ]
  },
  {
   "cell_type": "code",
   "execution_count": 12,
   "metadata": {
    "id": "uirhwFbpqhW-"
   },
   "outputs": [],
   "source": [
    "\n",
    "# Perform 70-30 stratified split\n",
    "X_train, X_test, y_train, y_test = train_test_split(\n",
    "    X, y,\n",
    "    test_size=0.3,\n",
    "    stratify=y,\n",
    "    random_state=42\n",
    ")\n"
   ]
  },
  {
   "cell_type": "code",
   "execution_count": 13,
   "metadata": {
    "colab": {
     "base_uri": "https://localhost:8080/"
    },
    "id": "lV8oFnQCqwkX",
    "outputId": "f7456787-bb00-4fb6-d8ff-de7d2cb45281"
   },
   "outputs": [
    {
     "name": "stdout",
     "output_type": "stream",
     "text": [
      "\n",
      "Final splits:\n",
      "Train: (13041, 2)\n",
      "Test: (5590, 2)\n"
     ]
    }
   ],
   "source": [
    "# Combine X and y for convenient inspection\n",
    "train_df = X_train.copy()\n",
    "train_df['Label'] = y_train\n",
    "\n",
    "test_df = X_test.copy()\n",
    "test_df['Label'] = y_test\n",
    "\n",
    "print(\"\\nFinal splits:\")\n",
    "print(\"Train:\", train_df.shape)\n",
    "print(\"Test:\", test_df.shape)\n",
    "\n"
   ]
  },
  {
   "cell_type": "code",
   "execution_count": 14,
   "metadata": {
    "id": "dTUxlu5Xsm8h"
   },
   "outputs": [],
   "source": [
    "# Save files\n",
    "train_df.to_csv(\"Data/train.csv\", index=False)\n",
    "test_df.to_csv(\"Data/test.csv\", index=False)"
   ]
  },
  {
   "cell_type": "code",
   "execution_count": null,
   "metadata": {
    "id": "66f-AK7FswPd"
   },
   "outputs": [],
   "source": []
  }
 ],
 "metadata": {
  "colab": {
   "provenance": []
  },
  "kernelspec": {
   "display_name": "Python 3 (ipykernel)",
   "language": "python",
   "name": "python3"
  },
  "language_info": {
   "codemirror_mode": {
    "name": "ipython",
    "version": 3
   },
   "file_extension": ".py",
   "mimetype": "text/x-python",
   "name": "python",
   "nbconvert_exporter": "python",
   "pygments_lexer": "ipython3",
   "version": "3.12.7"
  }
 },
 "nbformat": 4,
 "nbformat_minor": 4
}
