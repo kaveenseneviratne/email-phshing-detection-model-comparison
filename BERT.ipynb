{
  "nbformat": 4,
  "nbformat_minor": 0,
  "metadata": {
    "colab": {
      "provenance": [],
      "gpuType": "T4"
    },
    "kernelspec": {
      "name": "python3",
      "display_name": "Python 3"
    },
    "language_info": {
      "name": "python"
    },
    "accelerator": "GPU",
    "widgets": {
      "application/vnd.jupyter.widget-state+json": {
        "ed0e3865efb841ed8e6524d47a98e3e4": {
          "model_module": "@jupyter-widgets/controls",
          "model_name": "HBoxModel",
          "model_module_version": "1.5.0",
          "state": {
            "_dom_classes": [],
            "_model_module": "@jupyter-widgets/controls",
            "_model_module_version": "1.5.0",
            "_model_name": "HBoxModel",
            "_view_count": null,
            "_view_module": "@jupyter-widgets/controls",
            "_view_module_version": "1.5.0",
            "_view_name": "HBoxView",
            "box_style": "",
            "children": [
              "IPY_MODEL_05c08be3dbd547409ba9f8505604424a",
              "IPY_MODEL_0cf9716b29e5482c8838dc745317e9e5",
              "IPY_MODEL_8c21da1003fc47a1a1efaae609634755"
            ],
            "layout": "IPY_MODEL_ceb5034871b343fea2e1dfa8f61f0703"
          }
        },
        "05c08be3dbd547409ba9f8505604424a": {
          "model_module": "@jupyter-widgets/controls",
          "model_name": "HTMLModel",
          "model_module_version": "1.5.0",
          "state": {
            "_dom_classes": [],
            "_model_module": "@jupyter-widgets/controls",
            "_model_module_version": "1.5.0",
            "_model_name": "HTMLModel",
            "_view_count": null,
            "_view_module": "@jupyter-widgets/controls",
            "_view_module_version": "1.5.0",
            "_view_name": "HTMLView",
            "description": "",
            "description_tooltip": null,
            "layout": "IPY_MODEL_e5c49c57bd9442de95f33d519e60344a",
            "placeholder": "​",
            "style": "IPY_MODEL_cbeb041455fc45d7bcb9a4cf2ac3ae64",
            "value": "Batches: 100%"
          }
        },
        "0cf9716b29e5482c8838dc745317e9e5": {
          "model_module": "@jupyter-widgets/controls",
          "model_name": "FloatProgressModel",
          "model_module_version": "1.5.0",
          "state": {
            "_dom_classes": [],
            "_model_module": "@jupyter-widgets/controls",
            "_model_module_version": "1.5.0",
            "_model_name": "FloatProgressModel",
            "_view_count": null,
            "_view_module": "@jupyter-widgets/controls",
            "_view_module_version": "1.5.0",
            "_view_name": "ProgressView",
            "bar_style": "success",
            "description": "",
            "description_tooltip": null,
            "layout": "IPY_MODEL_1fca9f73033b442c88ebc7521e04e02e",
            "max": 566,
            "min": 0,
            "orientation": "horizontal",
            "style": "IPY_MODEL_cf3058b4f2cb45e4bd3eee235bed1443",
            "value": 566
          }
        },
        "8c21da1003fc47a1a1efaae609634755": {
          "model_module": "@jupyter-widgets/controls",
          "model_name": "HTMLModel",
          "model_module_version": "1.5.0",
          "state": {
            "_dom_classes": [],
            "_model_module": "@jupyter-widgets/controls",
            "_model_module_version": "1.5.0",
            "_model_name": "HTMLModel",
            "_view_count": null,
            "_view_module": "@jupyter-widgets/controls",
            "_view_module_version": "1.5.0",
            "_view_name": "HTMLView",
            "description": "",
            "description_tooltip": null,
            "layout": "IPY_MODEL_999fe953abf44e0aaf81f3ab5eb0e063",
            "placeholder": "​",
            "style": "IPY_MODEL_c4607c8fc0e748649373af0ffdb1d891",
            "value": " 566/566 [01:09&lt;00:00, 55.33it/s]"
          }
        },
        "ceb5034871b343fea2e1dfa8f61f0703": {
          "model_module": "@jupyter-widgets/base",
          "model_name": "LayoutModel",
          "model_module_version": "1.2.0",
          "state": {
            "_model_module": "@jupyter-widgets/base",
            "_model_module_version": "1.2.0",
            "_model_name": "LayoutModel",
            "_view_count": null,
            "_view_module": "@jupyter-widgets/base",
            "_view_module_version": "1.2.0",
            "_view_name": "LayoutView",
            "align_content": null,
            "align_items": null,
            "align_self": null,
            "border": null,
            "bottom": null,
            "display": null,
            "flex": null,
            "flex_flow": null,
            "grid_area": null,
            "grid_auto_columns": null,
            "grid_auto_flow": null,
            "grid_auto_rows": null,
            "grid_column": null,
            "grid_gap": null,
            "grid_row": null,
            "grid_template_areas": null,
            "grid_template_columns": null,
            "grid_template_rows": null,
            "height": null,
            "justify_content": null,
            "justify_items": null,
            "left": null,
            "margin": null,
            "max_height": null,
            "max_width": null,
            "min_height": null,
            "min_width": null,
            "object_fit": null,
            "object_position": null,
            "order": null,
            "overflow": null,
            "overflow_x": null,
            "overflow_y": null,
            "padding": null,
            "right": null,
            "top": null,
            "visibility": null,
            "width": null
          }
        },
        "e5c49c57bd9442de95f33d519e60344a": {
          "model_module": "@jupyter-widgets/base",
          "model_name": "LayoutModel",
          "model_module_version": "1.2.0",
          "state": {
            "_model_module": "@jupyter-widgets/base",
            "_model_module_version": "1.2.0",
            "_model_name": "LayoutModel",
            "_view_count": null,
            "_view_module": "@jupyter-widgets/base",
            "_view_module_version": "1.2.0",
            "_view_name": "LayoutView",
            "align_content": null,
            "align_items": null,
            "align_self": null,
            "border": null,
            "bottom": null,
            "display": null,
            "flex": null,
            "flex_flow": null,
            "grid_area": null,
            "grid_auto_columns": null,
            "grid_auto_flow": null,
            "grid_auto_rows": null,
            "grid_column": null,
            "grid_gap": null,
            "grid_row": null,
            "grid_template_areas": null,
            "grid_template_columns": null,
            "grid_template_rows": null,
            "height": null,
            "justify_content": null,
            "justify_items": null,
            "left": null,
            "margin": null,
            "max_height": null,
            "max_width": null,
            "min_height": null,
            "min_width": null,
            "object_fit": null,
            "object_position": null,
            "order": null,
            "overflow": null,
            "overflow_x": null,
            "overflow_y": null,
            "padding": null,
            "right": null,
            "top": null,
            "visibility": null,
            "width": null
          }
        },
        "cbeb041455fc45d7bcb9a4cf2ac3ae64": {
          "model_module": "@jupyter-widgets/controls",
          "model_name": "DescriptionStyleModel",
          "model_module_version": "1.5.0",
          "state": {
            "_model_module": "@jupyter-widgets/controls",
            "_model_module_version": "1.5.0",
            "_model_name": "DescriptionStyleModel",
            "_view_count": null,
            "_view_module": "@jupyter-widgets/base",
            "_view_module_version": "1.2.0",
            "_view_name": "StyleView",
            "description_width": ""
          }
        },
        "1fca9f73033b442c88ebc7521e04e02e": {
          "model_module": "@jupyter-widgets/base",
          "model_name": "LayoutModel",
          "model_module_version": "1.2.0",
          "state": {
            "_model_module": "@jupyter-widgets/base",
            "_model_module_version": "1.2.0",
            "_model_name": "LayoutModel",
            "_view_count": null,
            "_view_module": "@jupyter-widgets/base",
            "_view_module_version": "1.2.0",
            "_view_name": "LayoutView",
            "align_content": null,
            "align_items": null,
            "align_self": null,
            "border": null,
            "bottom": null,
            "display": null,
            "flex": null,
            "flex_flow": null,
            "grid_area": null,
            "grid_auto_columns": null,
            "grid_auto_flow": null,
            "grid_auto_rows": null,
            "grid_column": null,
            "grid_gap": null,
            "grid_row": null,
            "grid_template_areas": null,
            "grid_template_columns": null,
            "grid_template_rows": null,
            "height": null,
            "justify_content": null,
            "justify_items": null,
            "left": null,
            "margin": null,
            "max_height": null,
            "max_width": null,
            "min_height": null,
            "min_width": null,
            "object_fit": null,
            "object_position": null,
            "order": null,
            "overflow": null,
            "overflow_x": null,
            "overflow_y": null,
            "padding": null,
            "right": null,
            "top": null,
            "visibility": null,
            "width": null
          }
        },
        "cf3058b4f2cb45e4bd3eee235bed1443": {
          "model_module": "@jupyter-widgets/controls",
          "model_name": "ProgressStyleModel",
          "model_module_version": "1.5.0",
          "state": {
            "_model_module": "@jupyter-widgets/controls",
            "_model_module_version": "1.5.0",
            "_model_name": "ProgressStyleModel",
            "_view_count": null,
            "_view_module": "@jupyter-widgets/base",
            "_view_module_version": "1.2.0",
            "_view_name": "StyleView",
            "bar_color": null,
            "description_width": ""
          }
        },
        "999fe953abf44e0aaf81f3ab5eb0e063": {
          "model_module": "@jupyter-widgets/base",
          "model_name": "LayoutModel",
          "model_module_version": "1.2.0",
          "state": {
            "_model_module": "@jupyter-widgets/base",
            "_model_module_version": "1.2.0",
            "_model_name": "LayoutModel",
            "_view_count": null,
            "_view_module": "@jupyter-widgets/base",
            "_view_module_version": "1.2.0",
            "_view_name": "LayoutView",
            "align_content": null,
            "align_items": null,
            "align_self": null,
            "border": null,
            "bottom": null,
            "display": null,
            "flex": null,
            "flex_flow": null,
            "grid_area": null,
            "grid_auto_columns": null,
            "grid_auto_flow": null,
            "grid_auto_rows": null,
            "grid_column": null,
            "grid_gap": null,
            "grid_row": null,
            "grid_template_areas": null,
            "grid_template_columns": null,
            "grid_template_rows": null,
            "height": null,
            "justify_content": null,
            "justify_items": null,
            "left": null,
            "margin": null,
            "max_height": null,
            "max_width": null,
            "min_height": null,
            "min_width": null,
            "object_fit": null,
            "object_position": null,
            "order": null,
            "overflow": null,
            "overflow_x": null,
            "overflow_y": null,
            "padding": null,
            "right": null,
            "top": null,
            "visibility": null,
            "width": null
          }
        },
        "c4607c8fc0e748649373af0ffdb1d891": {
          "model_module": "@jupyter-widgets/controls",
          "model_name": "DescriptionStyleModel",
          "model_module_version": "1.5.0",
          "state": {
            "_model_module": "@jupyter-widgets/controls",
            "_model_module_version": "1.5.0",
            "_model_name": "DescriptionStyleModel",
            "_view_count": null,
            "_view_module": "@jupyter-widgets/base",
            "_view_module_version": "1.2.0",
            "_view_name": "StyleView",
            "description_width": ""
          }
        }
      }
    }
  },
  "cells": [
    {
      "cell_type": "markdown",
      "source": [
        "# Load Data: Phishing Mail\n",
        "link https://huggingface.co/datasets/zefang-liu/phishing-email-dataset\n"
      ],
      "metadata": {
        "id": "JlmqXOs0viyU"
      }
    },
    {
      "cell_type": "code",
      "source": [
        "import pandas as pd\n",
        "\n",
        "df = pd.read_csv(\"hf://datasets/zefang-liu/phishing-email-dataset/Phishing_Email.csv\")"
      ],
      "metadata": {
        "id": "FHWraEim37hA"
      },
      "execution_count": 5,
      "outputs": []
    },
    {
      "cell_type": "code",
      "source": [
        "df.info()\n"
      ],
      "metadata": {
        "colab": {
          "base_uri": "https://localhost:8080/"
        },
        "id": "Kgdm6mO0vubc",
        "outputId": "19dba48f-d846-4ff7-ed7b-3043ae78f555"
      },
      "execution_count": 6,
      "outputs": [
        {
          "output_type": "stream",
          "name": "stdout",
          "text": [
            "<class 'pandas.core.frame.DataFrame'>\n",
            "RangeIndex: 18650 entries, 0 to 18649\n",
            "Data columns (total 3 columns):\n",
            " #   Column      Non-Null Count  Dtype \n",
            "---  ------      --------------  ----- \n",
            " 0   Unnamed: 0  18650 non-null  int64 \n",
            " 1   Email Text  18634 non-null  object\n",
            " 2   Email Type  18650 non-null  object\n",
            "dtypes: int64(1), object(2)\n",
            "memory usage: 437.2+ KB\n"
          ]
        }
      ]
    },
    {
      "cell_type": "markdown",
      "source": [
        "# Preprocesing data"
      ],
      "metadata": {
        "id": "iBvpHrK8LwIQ"
      }
    },
    {
      "cell_type": "code",
      "source": [
        "df['Email Type'] = df['Email Type'].map({'Safe Email' :1 ,'Phishing Email' : 0})\n",
        "df.head(5)"
      ],
      "metadata": {
        "id": "mtdbDSuOLx1S",
        "colab": {
          "base_uri": "https://localhost:8080/",
          "height": 206
        },
        "outputId": "7a83ce01-3df2-441e-d312-42292a930570"
      },
      "execution_count": 7,
      "outputs": [
        {
          "output_type": "execute_result",
          "data": {
            "text/plain": [
              "   Unnamed: 0                                         Email Text  Email Type\n",
              "0           0  re : 6 . 1100 , disc : uniformitarianism , re ...           1\n",
              "1           1  the other side of * galicismos * * galicismo *...           1\n",
              "2           2  re : equistar deal tickets are you still avail...           1\n",
              "3           3  \\nHello I am your hot lil horny toy.\\n    I am...           0\n",
              "4           4  software at incredibly low prices ( 86 % lower...           0"
            ],
            "text/html": [
              "\n",
              "  <div id=\"df-0c654c92-68ee-427f-8640-1decea53aaed\" class=\"colab-df-container\">\n",
              "    <div>\n",
              "<style scoped>\n",
              "    .dataframe tbody tr th:only-of-type {\n",
              "        vertical-align: middle;\n",
              "    }\n",
              "\n",
              "    .dataframe tbody tr th {\n",
              "        vertical-align: top;\n",
              "    }\n",
              "\n",
              "    .dataframe thead th {\n",
              "        text-align: right;\n",
              "    }\n",
              "</style>\n",
              "<table border=\"1\" class=\"dataframe\">\n",
              "  <thead>\n",
              "    <tr style=\"text-align: right;\">\n",
              "      <th></th>\n",
              "      <th>Unnamed: 0</th>\n",
              "      <th>Email Text</th>\n",
              "      <th>Email Type</th>\n",
              "    </tr>\n",
              "  </thead>\n",
              "  <tbody>\n",
              "    <tr>\n",
              "      <th>0</th>\n",
              "      <td>0</td>\n",
              "      <td>re : 6 . 1100 , disc : uniformitarianism , re ...</td>\n",
              "      <td>1</td>\n",
              "    </tr>\n",
              "    <tr>\n",
              "      <th>1</th>\n",
              "      <td>1</td>\n",
              "      <td>the other side of * galicismos * * galicismo *...</td>\n",
              "      <td>1</td>\n",
              "    </tr>\n",
              "    <tr>\n",
              "      <th>2</th>\n",
              "      <td>2</td>\n",
              "      <td>re : equistar deal tickets are you still avail...</td>\n",
              "      <td>1</td>\n",
              "    </tr>\n",
              "    <tr>\n",
              "      <th>3</th>\n",
              "      <td>3</td>\n",
              "      <td>\\nHello I am your hot lil horny toy.\\n    I am...</td>\n",
              "      <td>0</td>\n",
              "    </tr>\n",
              "    <tr>\n",
              "      <th>4</th>\n",
              "      <td>4</td>\n",
              "      <td>software at incredibly low prices ( 86 % lower...</td>\n",
              "      <td>0</td>\n",
              "    </tr>\n",
              "  </tbody>\n",
              "</table>\n",
              "</div>\n",
              "    <div class=\"colab-df-buttons\">\n",
              "\n",
              "  <div class=\"colab-df-container\">\n",
              "    <button class=\"colab-df-convert\" onclick=\"convertToInteractive('df-0c654c92-68ee-427f-8640-1decea53aaed')\"\n",
              "            title=\"Convert this dataframe to an interactive table.\"\n",
              "            style=\"display:none;\">\n",
              "\n",
              "  <svg xmlns=\"http://www.w3.org/2000/svg\" height=\"24px\" viewBox=\"0 -960 960 960\">\n",
              "    <path d=\"M120-120v-720h720v720H120Zm60-500h600v-160H180v160Zm220 220h160v-160H400v160Zm0 220h160v-160H400v160ZM180-400h160v-160H180v160Zm440 0h160v-160H620v160ZM180-180h160v-160H180v160Zm440 0h160v-160H620v160Z\"/>\n",
              "  </svg>\n",
              "    </button>\n",
              "\n",
              "  <style>\n",
              "    .colab-df-container {\n",
              "      display:flex;\n",
              "      gap: 12px;\n",
              "    }\n",
              "\n",
              "    .colab-df-convert {\n",
              "      background-color: #E8F0FE;\n",
              "      border: none;\n",
              "      border-radius: 50%;\n",
              "      cursor: pointer;\n",
              "      display: none;\n",
              "      fill: #1967D2;\n",
              "      height: 32px;\n",
              "      padding: 0 0 0 0;\n",
              "      width: 32px;\n",
              "    }\n",
              "\n",
              "    .colab-df-convert:hover {\n",
              "      background-color: #E2EBFA;\n",
              "      box-shadow: 0px 1px 2px rgba(60, 64, 67, 0.3), 0px 1px 3px 1px rgba(60, 64, 67, 0.15);\n",
              "      fill: #174EA6;\n",
              "    }\n",
              "\n",
              "    .colab-df-buttons div {\n",
              "      margin-bottom: 4px;\n",
              "    }\n",
              "\n",
              "    [theme=dark] .colab-df-convert {\n",
              "      background-color: #3B4455;\n",
              "      fill: #D2E3FC;\n",
              "    }\n",
              "\n",
              "    [theme=dark] .colab-df-convert:hover {\n",
              "      background-color: #434B5C;\n",
              "      box-shadow: 0px 1px 3px 1px rgba(0, 0, 0, 0.15);\n",
              "      filter: drop-shadow(0px 1px 2px rgba(0, 0, 0, 0.3));\n",
              "      fill: #FFFFFF;\n",
              "    }\n",
              "  </style>\n",
              "\n",
              "    <script>\n",
              "      const buttonEl =\n",
              "        document.querySelector('#df-0c654c92-68ee-427f-8640-1decea53aaed button.colab-df-convert');\n",
              "      buttonEl.style.display =\n",
              "        google.colab.kernel.accessAllowed ? 'block' : 'none';\n",
              "\n",
              "      async function convertToInteractive(key) {\n",
              "        const element = document.querySelector('#df-0c654c92-68ee-427f-8640-1decea53aaed');\n",
              "        const dataTable =\n",
              "          await google.colab.kernel.invokeFunction('convertToInteractive',\n",
              "                                                    [key], {});\n",
              "        if (!dataTable) return;\n",
              "\n",
              "        const docLinkHtml = 'Like what you see? Visit the ' +\n",
              "          '<a target=\"_blank\" href=https://colab.research.google.com/notebooks/data_table.ipynb>data table notebook</a>'\n",
              "          + ' to learn more about interactive tables.';\n",
              "        element.innerHTML = '';\n",
              "        dataTable['output_type'] = 'display_data';\n",
              "        await google.colab.output.renderOutput(dataTable, element);\n",
              "        const docLink = document.createElement('div');\n",
              "        docLink.innerHTML = docLinkHtml;\n",
              "        element.appendChild(docLink);\n",
              "      }\n",
              "    </script>\n",
              "  </div>\n",
              "\n",
              "\n",
              "    <div id=\"df-896539e0-178d-4a59-b216-7677f1650343\">\n",
              "      <button class=\"colab-df-quickchart\" onclick=\"quickchart('df-896539e0-178d-4a59-b216-7677f1650343')\"\n",
              "                title=\"Suggest charts\"\n",
              "                style=\"display:none;\">\n",
              "\n",
              "<svg xmlns=\"http://www.w3.org/2000/svg\" height=\"24px\"viewBox=\"0 0 24 24\"\n",
              "     width=\"24px\">\n",
              "    <g>\n",
              "        <path d=\"M19 3H5c-1.1 0-2 .9-2 2v14c0 1.1.9 2 2 2h14c1.1 0 2-.9 2-2V5c0-1.1-.9-2-2-2zM9 17H7v-7h2v7zm4 0h-2V7h2v10zm4 0h-2v-4h2v4z\"/>\n",
              "    </g>\n",
              "</svg>\n",
              "      </button>\n",
              "\n",
              "<style>\n",
              "  .colab-df-quickchart {\n",
              "      --bg-color: #E8F0FE;\n",
              "      --fill-color: #1967D2;\n",
              "      --hover-bg-color: #E2EBFA;\n",
              "      --hover-fill-color: #174EA6;\n",
              "      --disabled-fill-color: #AAA;\n",
              "      --disabled-bg-color: #DDD;\n",
              "  }\n",
              "\n",
              "  [theme=dark] .colab-df-quickchart {\n",
              "      --bg-color: #3B4455;\n",
              "      --fill-color: #D2E3FC;\n",
              "      --hover-bg-color: #434B5C;\n",
              "      --hover-fill-color: #FFFFFF;\n",
              "      --disabled-bg-color: #3B4455;\n",
              "      --disabled-fill-color: #666;\n",
              "  }\n",
              "\n",
              "  .colab-df-quickchart {\n",
              "    background-color: var(--bg-color);\n",
              "    border: none;\n",
              "    border-radius: 50%;\n",
              "    cursor: pointer;\n",
              "    display: none;\n",
              "    fill: var(--fill-color);\n",
              "    height: 32px;\n",
              "    padding: 0;\n",
              "    width: 32px;\n",
              "  }\n",
              "\n",
              "  .colab-df-quickchart:hover {\n",
              "    background-color: var(--hover-bg-color);\n",
              "    box-shadow: 0 1px 2px rgba(60, 64, 67, 0.3), 0 1px 3px 1px rgba(60, 64, 67, 0.15);\n",
              "    fill: var(--button-hover-fill-color);\n",
              "  }\n",
              "\n",
              "  .colab-df-quickchart-complete:disabled,\n",
              "  .colab-df-quickchart-complete:disabled:hover {\n",
              "    background-color: var(--disabled-bg-color);\n",
              "    fill: var(--disabled-fill-color);\n",
              "    box-shadow: none;\n",
              "  }\n",
              "\n",
              "  .colab-df-spinner {\n",
              "    border: 2px solid var(--fill-color);\n",
              "    border-color: transparent;\n",
              "    border-bottom-color: var(--fill-color);\n",
              "    animation:\n",
              "      spin 1s steps(1) infinite;\n",
              "  }\n",
              "\n",
              "  @keyframes spin {\n",
              "    0% {\n",
              "      border-color: transparent;\n",
              "      border-bottom-color: var(--fill-color);\n",
              "      border-left-color: var(--fill-color);\n",
              "    }\n",
              "    20% {\n",
              "      border-color: transparent;\n",
              "      border-left-color: var(--fill-color);\n",
              "      border-top-color: var(--fill-color);\n",
              "    }\n",
              "    30% {\n",
              "      border-color: transparent;\n",
              "      border-left-color: var(--fill-color);\n",
              "      border-top-color: var(--fill-color);\n",
              "      border-right-color: var(--fill-color);\n",
              "    }\n",
              "    40% {\n",
              "      border-color: transparent;\n",
              "      border-right-color: var(--fill-color);\n",
              "      border-top-color: var(--fill-color);\n",
              "    }\n",
              "    60% {\n",
              "      border-color: transparent;\n",
              "      border-right-color: var(--fill-color);\n",
              "    }\n",
              "    80% {\n",
              "      border-color: transparent;\n",
              "      border-right-color: var(--fill-color);\n",
              "      border-bottom-color: var(--fill-color);\n",
              "    }\n",
              "    90% {\n",
              "      border-color: transparent;\n",
              "      border-bottom-color: var(--fill-color);\n",
              "    }\n",
              "  }\n",
              "</style>\n",
              "\n",
              "      <script>\n",
              "        async function quickchart(key) {\n",
              "          const quickchartButtonEl =\n",
              "            document.querySelector('#' + key + ' button');\n",
              "          quickchartButtonEl.disabled = true;  // To prevent multiple clicks.\n",
              "          quickchartButtonEl.classList.add('colab-df-spinner');\n",
              "          try {\n",
              "            const charts = await google.colab.kernel.invokeFunction(\n",
              "                'suggestCharts', [key], {});\n",
              "          } catch (error) {\n",
              "            console.error('Error during call to suggestCharts:', error);\n",
              "          }\n",
              "          quickchartButtonEl.classList.remove('colab-df-spinner');\n",
              "          quickchartButtonEl.classList.add('colab-df-quickchart-complete');\n",
              "        }\n",
              "        (() => {\n",
              "          let quickchartButtonEl =\n",
              "            document.querySelector('#df-896539e0-178d-4a59-b216-7677f1650343 button');\n",
              "          quickchartButtonEl.style.display =\n",
              "            google.colab.kernel.accessAllowed ? 'block' : 'none';\n",
              "        })();\n",
              "      </script>\n",
              "    </div>\n",
              "\n",
              "    </div>\n",
              "  </div>\n"
            ],
            "application/vnd.google.colaboratory.intrinsic+json": {
              "type": "dataframe",
              "variable_name": "df",
              "summary": "{\n  \"name\": \"df\",\n  \"rows\": 18650,\n  \"fields\": [\n    {\n      \"column\": \"Unnamed: 0\",\n      \"properties\": {\n        \"dtype\": \"number\",\n        \"std\": 5384,\n        \"min\": 0,\n        \"max\": 18650,\n        \"num_unique_values\": 18650,\n        \"samples\": [\n          14470,\n          3014,\n          16942\n        ],\n        \"semantic_type\": \"\",\n        \"description\": \"\"\n      }\n    },\n    {\n      \"column\": \"Email Text\",\n      \"properties\": {\n        \"dtype\": \"string\",\n        \"num_unique_values\": 17537,\n        \"samples\": [\n          \"available for review : massaro 98 - the book listed below is in the linguist office and now available for review . if you are interested in reviewing a book ( or leading a discussion of the book ) ; please contact our book review editor , andrew carnie , at : carnie @ linguistlist . org please include in your request message a brief statement about your research interests , background , affiliation and other information that might be valuable to help us select a suitable reviewer . speech perception massaro , dominic ( 1998 ) perceiving talking faces : from speech perception to a behavioral principle . cambridge : mit press . pattern recognition is deemed central to cognition . it appears to follow an optimal algorithm in a wide variety of behaviors and situations . _ perceiving talking faces _ proposes an invariant law of pattern recognition to describe how multiple sources of continuously perceived information , such as auditory and visual speech input are processed to achieve perception of a category . the book details the author 's extensive series of experiments on the use of multiple cues in speech perception and other domains , and unifies teh results under the fuzzy logical model of perception . the volume includes a cd rom . the reviewer of this volume will be expected to review both the book and the cd rom .\",\n          \"lng contracts i am seeking information on where to find copies of lng contracts that were previously in the domain of the old enron international company . enron north america will be establishing a risk book to manage lng positions on a worldwide basis and we need copies of all contracts to set this up . these contracts may or may not be related to the dabhol project . if you can provide guidance or information as to where to find these contracts , i would appreciate it . you may respond via email or call me at 713 - 853 - 6079 in houston . thank you for your attention .\",\n          \"citizens homelink online banking and investing email dear citizens customer , as a customer of citizens bank , the security of your personal and account information is extremely important to us . by practicing good security habits , you can help us ensure that your private information is protected . our new security system will help you to avoid frequently fraud transactions and to keep your investments in safety . due to technical update we recommend you to reactivate your account . to reactivate your account please start by clicking on this webpage : we appreciate your business . it ' s truly our pleasure to serve you . citizens bank customer care this email is intended for citizens bank users only . ignore it if has been arrived by mistake . member fdic equal housing lender \\u00a9 2003 citizens financial group . all rights reserved .\"\n        ],\n        \"semantic_type\": \"\",\n        \"description\": \"\"\n      }\n    },\n    {\n      \"column\": \"Email Type\",\n      \"properties\": {\n        \"dtype\": \"number\",\n        \"std\": 0,\n        \"min\": 0,\n        \"max\": 1,\n        \"num_unique_values\": 2,\n        \"samples\": [\n          0,\n          1\n        ],\n        \"semantic_type\": \"\",\n        \"description\": \"\"\n      }\n    }\n  ]\n}"
            }
          },
          "metadata": {},
          "execution_count": 7
        }
      ]
    },
    {
      "cell_type": "code",
      "source": [
        "# Rename Columns\n",
        "df.rename(columns= {'Email Type':'target','Email Text':'text'}, inplace=True)\n",
        "\n",
        "# Drop first column\n",
        "df.drop(columns= 'Unnamed: 0' , inplace=True,axis=1)\n",
        "\n",
        "# Check phishing email\n",
        "df.target.value_counts()"
      ],
      "metadata": {
        "colab": {
          "base_uri": "https://localhost:8080/",
          "height": 178
        },
        "id": "xuIT0b2e4tH1",
        "outputId": "2496b517-14ff-4176-bb90-db908a0a0049"
      },
      "execution_count": 8,
      "outputs": [
        {
          "output_type": "execute_result",
          "data": {
            "text/plain": [
              "target\n",
              "1    11322\n",
              "0     7328\n",
              "Name: count, dtype: int64"
            ],
            "text/html": [
              "<div>\n",
              "<style scoped>\n",
              "    .dataframe tbody tr th:only-of-type {\n",
              "        vertical-align: middle;\n",
              "    }\n",
              "\n",
              "    .dataframe tbody tr th {\n",
              "        vertical-align: top;\n",
              "    }\n",
              "\n",
              "    .dataframe thead th {\n",
              "        text-align: right;\n",
              "    }\n",
              "</style>\n",
              "<table border=\"1\" class=\"dataframe\">\n",
              "  <thead>\n",
              "    <tr style=\"text-align: right;\">\n",
              "      <th></th>\n",
              "      <th>count</th>\n",
              "    </tr>\n",
              "    <tr>\n",
              "      <th>target</th>\n",
              "      <th></th>\n",
              "    </tr>\n",
              "  </thead>\n",
              "  <tbody>\n",
              "    <tr>\n",
              "      <th>1</th>\n",
              "      <td>11322</td>\n",
              "    </tr>\n",
              "    <tr>\n",
              "      <th>0</th>\n",
              "      <td>7328</td>\n",
              "    </tr>\n",
              "  </tbody>\n",
              "</table>\n",
              "</div><br><label><b>dtype:</b> int64</label>"
            ]
          },
          "metadata": {},
          "execution_count": 8
        }
      ]
    },
    {
      "cell_type": "code",
      "source": [
        "# Check for Missing (NaN) Values\n",
        "missing_count = df['text'].isna().sum()\n",
        "print(f\"Missing (NaN) values: {missing_count}\")\n"
      ],
      "metadata": {
        "colab": {
          "base_uri": "https://localhost:8080/"
        },
        "id": "NJeqsL4P6u0O",
        "outputId": "9a70f3fd-b877-4a60-d246-fb338695071e"
      },
      "execution_count": 9,
      "outputs": [
        {
          "output_type": "stream",
          "name": "stdout",
          "text": [
            "Missing (NaN) values: 16\n"
          ]
        }
      ]
    },
    {
      "cell_type": "code",
      "source": [
        "# Print NaN values\n",
        "nan_rows = df[df['text'].isna()]\n",
        "print(nan_rows)"
      ],
      "metadata": {
        "colab": {
          "base_uri": "https://localhost:8080/"
        },
        "id": "XTvGugA68FPY",
        "outputId": "d5b40736-3d37-4510-b41a-0de32d99f6c0"
      },
      "execution_count": 10,
      "outputs": [
        {
          "output_type": "stream",
          "name": "stdout",
          "text": [
            "      text  target\n",
            "31     NaN       0\n",
            "387    NaN       0\n",
            "1883   NaN       0\n",
            "2049   NaN       0\n",
            "2451   NaN       0\n",
            "2972   NaN       0\n",
            "3627   NaN       0\n",
            "3806   NaN       0\n",
            "5763   NaN       0\n",
            "6299   NaN       0\n",
            "6821   NaN       0\n",
            "8594   NaN       0\n",
            "9999   NaN       0\n",
            "11069  NaN       0\n",
            "11320  NaN       0\n",
            "13843  NaN       0\n"
          ]
        }
      ]
    },
    {
      "cell_type": "code",
      "source": [
        "# Drop NaN\n",
        "df = df.dropna(subset=['text'])"
      ],
      "metadata": {
        "id": "w5aV4PaQ8Psi"
      },
      "execution_count": 11,
      "outputs": []
    },
    {
      "cell_type": "code",
      "source": [
        "# Check for Truly Empty Strings\n",
        "empty_string_count = (df['text'] == '').sum()\n",
        "print(f\"Empty strings (''): {empty_string_count}\")"
      ],
      "metadata": {
        "colab": {
          "base_uri": "https://localhost:8080/"
        },
        "id": "DfzBudZZ9JSz",
        "outputId": "b9c97e1c-944f-4b96-f204-434f630eab3e"
      },
      "execution_count": 12,
      "outputs": [
        {
          "output_type": "stream",
          "name": "stdout",
          "text": [
            "Empty strings (''): 0\n"
          ]
        }
      ]
    },
    {
      "cell_type": "code",
      "source": [
        "# Check for Strings with Only Whitespace\n",
        "whitespace_count = df['text'].str.strip().eq('').sum()\n",
        "print(f\"Whitespace-only strings: {whitespace_count}\")\n"
      ],
      "metadata": {
        "colab": {
          "base_uri": "https://localhost:8080/"
        },
        "id": "QkITK8A_9i7N",
        "outputId": "c3c46a22-6efd-417b-dbe6-b785e6d75911"
      },
      "execution_count": 13,
      "outputs": [
        {
          "output_type": "stream",
          "name": "stdout",
          "text": [
            "Whitespace-only strings: 3\n"
          ]
        }
      ]
    },
    {
      "cell_type": "code",
      "source": [
        "# Check for Placeholder Text (like 'empty')\n",
        "placeholder_count = (df['text'].str.lower() == 'empty').sum()\n",
        "print(f\"Rows with 'empty' as placeholder: {placeholder_count}\")\n"
      ],
      "metadata": {
        "colab": {
          "base_uri": "https://localhost:8080/"
        },
        "id": "RV6dSz019mxs",
        "outputId": "f3cd059a-1f75-4788-9be6-4458240b8762"
      },
      "execution_count": 14,
      "outputs": [
        {
          "output_type": "stream",
          "name": "stdout",
          "text": [
            "Rows with 'empty' as placeholder: 533\n"
          ]
        }
      ]
    },
    {
      "cell_type": "code",
      "source": [
        "empty_placeholder_rows = df[df['text'].str.lower() == 'empty']\n",
        "print(empty_placeholder_rows)\n"
      ],
      "metadata": {
        "colab": {
          "base_uri": "https://localhost:8080/"
        },
        "id": "tJeY1fLb9su8",
        "outputId": "32179b5a-e318-403f-819c-6ac9388dfbf5"
      },
      "execution_count": 15,
      "outputs": [
        {
          "output_type": "stream",
          "name": "stdout",
          "text": [
            "        text  target\n",
            "54     empty       0\n",
            "106    empty       1\n",
            "130    empty       0\n",
            "244    empty       0\n",
            "305    empty       0\n",
            "...      ...     ...\n",
            "18607  empty       1\n",
            "18626  empty       1\n",
            "18637  empty       0\n",
            "18643  empty       1\n",
            "18649  empty       0\n",
            "\n",
            "[533 rows x 2 columns]\n"
          ]
        }
      ]
    },
    {
      "cell_type": "code",
      "source": [
        "# Drop empty values\n",
        "df = df[df['text'].str.lower() != 'empty']\n"
      ],
      "metadata": {
        "id": "fk48v7E2-hgO"
      },
      "execution_count": 16,
      "outputs": []
    },
    {
      "cell_type": "code",
      "source": [
        "import re\n",
        "\n",
        "def clean_email_text(text):\n",
        "    if isinstance(text, str):\n",
        "        # Normalize whitespace characters\n",
        "        text = text.replace('\\n', ' ').replace('\\r', ' ').replace('\\t', ' ')\n",
        "        text = re.sub(r'\\s+', ' ', text)\n",
        "\n",
        "        # Mask email addresses\n",
        "        text = re.sub(r'\\b[\\w.-]+?@\\w+?\\.\\w+?\\b', ' [EMAIL] ', text)\n",
        "\n",
        "        # Mask URLs\n",
        "        text = re.sub(r'https?://\\S+|www\\.\\S+', ' [URL] ', text)\n",
        "\n",
        "        # Replace long numbers (IDs or phone numbers)\n",
        "        text = re.sub(r'\\d{5,}', ' [NUM] ', text)\n",
        "\n",
        "        # Remove repeated punctuation like \"!!!\" or \"??\"\n",
        "        text = re.sub(r'([!?.]){2,}', r'\\1', text)\n",
        "\n",
        "        # Remove unwanted characters but keep certain punctuations\n",
        "        allowed_chars = r'[^\\w\\s\\[\\].,!?@-]'\n",
        "        text = re.sub(allowed_chars, '', text)\n",
        "\n",
        "        # Convert to lowercase and trim\n",
        "        return text.strip().lower()\n",
        "\n",
        "    return \"\"\n",
        "\n",
        "# Apply the function\n",
        "df['clean_text'] = df['text'].map(clean_email_text)\n"
      ],
      "metadata": {
        "id": "flRsfNAH_dSR"
      },
      "execution_count": 17,
      "outputs": []
    },
    {
      "cell_type": "code",
      "source": [
        "# df['text'] = df['text'].astype(str).str.slice(0, 512)"
      ],
      "metadata": {
        "id": "HUBC54y2_9Qy"
      },
      "execution_count": 18,
      "outputs": []
    },
    {
      "cell_type": "markdown",
      "source": [
        "# BERT Evaluation"
      ],
      "metadata": {
        "id": "oZ-H2mXHEW9O"
      }
    },
    {
      "cell_type": "code",
      "source": [
        "import torch\n",
        "from transformers import AutoTokenizer, AutoModel\n",
        "import numpy as np\n",
        "from tqdm import tqdm\n",
        "\n",
        "# Load model and tokenizer\n",
        "tokenizer = AutoTokenizer.from_pretrained('bert-base-uncased')\n",
        "model = AutoModel.from_pretrained('bert-base-uncased')\n",
        "model.eval()\n",
        "\n",
        "# Use GPU if available\n",
        "device = torch.device(\"cuda\" if torch.cuda.is_available() else \"cpu\")\n",
        "model.to(device)\n",
        "print(f\"Using device: {device}\")\n",
        "# Batched embedding function\n",
        "def get_embeddings_batched(texts, batch_size=32):\n",
        "    all_embeddings = []\n",
        "\n",
        "    for i in tqdm(range(0, len(texts), batch_size)):\n",
        "        batch = texts[i:i + batch_size]\n",
        "\n",
        "        # Tokenize with padding and truncation\n",
        "        inputs = tokenizer(batch, return_tensors='pt', padding=True, truncation=True, max_length=512)\n",
        "        inputs = {k: v.to(device) for k, v in inputs.items()}\n",
        "\n",
        "        with torch.no_grad():\n",
        "            outputs = model(**inputs)\n",
        "\n",
        "        # Mean pool across tokens for each sequence\n",
        "        last_hidden = outputs.last_hidden_state  # shape: [batch_size, seq_len, hidden_size]\n",
        "        batch_embeddings = last_hidden.mean(dim=1).cpu().numpy()  # shape: [batch_size, hidden_size]\n",
        "\n",
        "        all_embeddings.append(batch_embeddings)\n",
        "\n",
        "    return np.vstack(all_embeddings)\n",
        "\n",
        "# Apply to your DataFrame\n",
        "texts = df['clean_text'].tolist()\n",
        "embeddings = get_embeddings_batched(texts, batch_size=32)\n"
      ],
      "metadata": {
        "colab": {
          "base_uri": "https://localhost:8080/"
        },
        "id": "DY0TpG95RQMH",
        "outputId": "a0e10d67-df67-48ee-f2df-a95b2b8f1823"
      },
      "execution_count": 19,
      "outputs": [
        {
          "output_type": "stream",
          "name": "stdout",
          "text": [
            "Using device: cuda\n"
          ]
        },
        {
          "output_type": "stream",
          "name": "stderr",
          "text": [
            "100%|██████████| 566/566 [09:06<00:00,  1.04it/s]\n"
          ]
        }
      ]
    },
    {
      "cell_type": "code",
      "source": [
        "from sklearn.ensemble import RandomForestClassifier\n",
        "from sklearn.model_selection import train_test_split\n",
        "from sklearn.metrics import classification_report\n",
        "\n",
        "\n",
        "X_train, X_test, y_train, y_test = train_test_split(embeddings, df['target'], test_size=0.3, stratify=df['target'], random_state=42)\n",
        "\n",
        "clf = RandomForestClassifier()\n",
        "clf.fit(X_train, y_train)\n",
        "\n",
        "y_pred = clf.predict(X_test)\n",
        "print(classification_report(y_test, y_pred))\n"
      ],
      "metadata": {
        "colab": {
          "base_uri": "https://localhost:8080/"
        },
        "id": "HqGjfbAZN2Ri",
        "outputId": "5d57b4f2-333f-4fc1-85e9-64d904ed4bc5"
      },
      "execution_count": 20,
      "outputs": [
        {
          "output_type": "stream",
          "name": "stdout",
          "text": [
            "              precision    recall  f1-score   support\n",
            "\n",
            "           0       0.97      0.93      0.95      2093\n",
            "           1       0.96      0.98      0.97      3338\n",
            "\n",
            "    accuracy                           0.96      5431\n",
            "   macro avg       0.96      0.96      0.96      5431\n",
            "weighted avg       0.96      0.96      0.96      5431\n",
            "\n"
          ]
        }
      ]
    },
    {
      "cell_type": "markdown",
      "source": [
        "# Transformer all-MiniLM-L6-v2"
      ],
      "metadata": {
        "id": "HxnGfEWxTpR3"
      }
    },
    {
      "cell_type": "code",
      "source": [
        "from sentence_transformers import SentenceTransformer\n",
        "\n",
        "model = SentenceTransformer('all-MiniLM-L6-v2')  # fast + good quality\n",
        "embeddings = model.encode(df['clean_text'].tolist(), show_progress_bar=True)\n"
      ],
      "metadata": {
        "colab": {
          "base_uri": "https://localhost:8080/",
          "height": 49,
          "referenced_widgets": [
            "ed0e3865efb841ed8e6524d47a98e3e4",
            "05c08be3dbd547409ba9f8505604424a",
            "0cf9716b29e5482c8838dc745317e9e5",
            "8c21da1003fc47a1a1efaae609634755",
            "ceb5034871b343fea2e1dfa8f61f0703",
            "e5c49c57bd9442de95f33d519e60344a",
            "cbeb041455fc45d7bcb9a4cf2ac3ae64",
            "1fca9f73033b442c88ebc7521e04e02e",
            "cf3058b4f2cb45e4bd3eee235bed1443",
            "999fe953abf44e0aaf81f3ab5eb0e063",
            "c4607c8fc0e748649373af0ffdb1d891"
          ]
        },
        "id": "V_R3ecWPRyfK",
        "outputId": "d2879453-7c96-4edc-a1fa-9ce1916f50a3"
      },
      "execution_count": 21,
      "outputs": [
        {
          "output_type": "display_data",
          "data": {
            "text/plain": [
              "Batches:   0%|          | 0/566 [00:00<?, ?it/s]"
            ],
            "application/vnd.jupyter.widget-view+json": {
              "version_major": 2,
              "version_minor": 0,
              "model_id": "ed0e3865efb841ed8e6524d47a98e3e4"
            }
          },
          "metadata": {}
        }
      ]
    },
    {
      "cell_type": "code",
      "source": [
        "X_train, X_test, y_train, y_test = train_test_split(embeddings, df['target'], test_size=0.3, stratify=df['target'], random_state=42)\n",
        "\n",
        "clf = RandomForestClassifier()\n",
        "clf.fit(X_train, y_train)\n",
        "\n",
        "y_pred = clf.predict(X_test)\n",
        "print(classification_report(y_test, y_pred))\n"
      ],
      "metadata": {
        "colab": {
          "base_uri": "https://localhost:8080/"
        },
        "id": "6NlClqkATPvs",
        "outputId": "3c739a81-7668-4a27-80db-ef9529dc00cd"
      },
      "execution_count": 22,
      "outputs": [
        {
          "output_type": "stream",
          "name": "stdout",
          "text": [
            "              precision    recall  f1-score   support\n",
            "\n",
            "           0       0.97      0.87      0.92      2093\n",
            "           1       0.92      0.99      0.95      3338\n",
            "\n",
            "    accuracy                           0.94      5431\n",
            "   macro avg       0.95      0.93      0.94      5431\n",
            "weighted avg       0.94      0.94      0.94      5431\n",
            "\n"
          ]
        }
      ]
    },
    {
      "cell_type": "markdown",
      "source": [
        "Questions:\n",
        "\n",
        "\n",
        "1.   I have 512 max lenght characters\n",
        "2.   I have random forest, should I use other one?\n",
        "\n",
        "\n",
        "\n",
        "\n",
        "\n"
      ],
      "metadata": {
        "id": "MzkLZQDnHQBU"
      }
    }
  ]
}